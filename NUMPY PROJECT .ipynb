{
 "cells": [
  {
   "cell_type": "code",
   "execution_count": 2,
   "id": "b3162d9e",
   "metadata": {},
   "outputs": [
    {
     "data": {
      "text/plain": [
       "'/Users/anubhabmandal'"
      ]
     },
     "execution_count": 2,
     "metadata": {},
     "output_type": "execute_result"
    }
   ],
   "source": [
    "pwd\n"
   ]
  },
  {
   "cell_type": "code",
   "execution_count": 3,
   "id": "c947696a",
   "metadata": {},
   "outputs": [],
   "source": [
    "import numpy as np"
   ]
  },
  {
   "cell_type": "code",
   "execution_count": 6,
   "id": "83a61772",
   "metadata": {},
   "outputs": [],
   "source": [
    "taxi = np.genfromtxt('nyc_taxis.csv', delimiter =',', skip_header= True)"
   ]
  },
  {
   "cell_type": "markdown",
   "id": "0126f6ee",
   "metadata": {},
   "source": [
    "# MEAN SPEED OF CAB RIDE"
   ]
  },
  {
   "cell_type": "markdown",
   "id": "9dcdf74c",
   "metadata": {},
   "source": [
    "# MEAN SPEED"
   ]
  },
  {
   "cell_type": "code",
   "execution_count": 9,
   "id": "6b1732e9",
   "metadata": {},
   "outputs": [],
   "source": [
    "speed=taxi[:,7]/(taxi[:,8]/3600)"
   ]
  },
  {
   "cell_type": "code",
   "execution_count": 10,
   "id": "a9cd9f23",
   "metadata": {},
   "outputs": [
    {
     "name": "stdout",
     "output_type": "stream",
     "text": [
      "32.24258580925573\n"
     ]
    }
   ],
   "source": [
    "mean_speed=speed.mean()\n",
    "print(mean_speed)"
   ]
  },
  {
   "cell_type": "markdown",
   "id": "b38b43a8",
   "metadata": {},
   "source": [
    "# RIDES IN THE MONTH OF FEBRUARY"
   ]
  },
  {
   "cell_type": "code",
   "execution_count": 12,
   "id": "6fcf0d08",
   "metadata": {},
   "outputs": [
    {
     "name": "stdout",
     "output_type": "stream",
     "text": [
      "13333\n"
     ]
    }
   ],
   "source": [
    "rides_feb=taxi[taxi[:,1] ==2,1]\n",
    "print(rides_feb.shape[0])"
   ]
  },
  {
   "cell_type": "markdown",
   "id": "4126475d",
   "metadata": {},
   "source": [
    "# TIPS MORE THAN 50$"
   ]
  },
  {
   "cell_type": "code",
   "execution_count": 13,
   "id": "fb618d71",
   "metadata": {},
   "outputs": [],
   "source": [
    "tips=taxi[taxi[:,-3] >50,-3]"
   ]
  },
  {
   "cell_type": "code",
   "execution_count": 15,
   "id": "f39c3f8e",
   "metadata": {},
   "outputs": [
    {
     "name": "stdout",
     "output_type": "stream",
     "text": [
      "16\n"
     ]
    }
   ],
   "source": [
    "print(tips.shape[0])"
   ]
  },
  {
   "cell_type": "code",
   "execution_count": null,
   "id": "3b797ff6",
   "metadata": {},
   "outputs": [],
   "source": []
  }
 ],
 "metadata": {
  "kernelspec": {
   "display_name": "Python 3 (ipykernel)",
   "language": "python",
   "name": "python3"
  },
  "language_info": {
   "codemirror_mode": {
    "name": "ipython",
    "version": 3
   },
   "file_extension": ".py",
   "mimetype": "text/x-python",
   "name": "python",
   "nbconvert_exporter": "python",
   "pygments_lexer": "ipython3",
   "version": "3.11.5"
  }
 },
 "nbformat": 4,
 "nbformat_minor": 5
}
